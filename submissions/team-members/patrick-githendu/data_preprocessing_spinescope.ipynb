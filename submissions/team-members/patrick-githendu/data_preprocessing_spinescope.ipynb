{
  "cells": [
    {
      "cell_type": "markdown",
      "metadata": {
        "colab_type": "text",
        "id": "37puETfgRzzg"
      },
      "source": [
        "# Data Preprocessing "
      ]
    },
    {
      "cell_type": "markdown",
      "metadata": {
        "colab_type": "text",
        "id": "EoRP98MpR-qj"
      },
      "source": [
        "## Importing the libraries"
      ]
    },
    {
      "cell_type": "code",
      "execution_count": 1,
      "metadata": {
        "colab": {},
        "colab_type": "code",
        "id": "N-qiINBQSK2g"
      },
      "outputs": [],
      "source": [
        "import numpy as np\n",
        "import matplotlib.pyplot as plt\n",
        "import pandas as pd"
      ]
    },
    {
      "cell_type": "markdown",
      "metadata": {
        "colab_type": "text",
        "id": "RopL7tUZSQkT"
      },
      "source": [
        "## Importing the dataset"
      ]
    },
    {
      "cell_type": "code",
      "execution_count": 2,
      "metadata": {
        "colab": {},
        "colab_type": "code",
        "id": "WwEPNDWySTKm"
      },
      "outputs": [],
      "source": [
        "dataset = pd.read_csv(r\"C:\\Users\\patri\\OneDrive\\Documents\\SuperDatascience\\Spinescope\\SDS-CP033-spinescope\\submissions\\team-members\\patrick-githendu\\column_3C_weka.csv\")\n",
        "X = dataset.iloc[:, :-1].values\n",
        "y = dataset.iloc[:, -1].values"
      ]
    },
    {
      "cell_type": "code",
      "execution_count": 3,
      "metadata": {
        "colab": {
          "base_uri": "https://localhost:8080/",
          "height": 188
        },
        "colab_type": "code",
        "id": "hCsz2yCebe1R",
        "outputId": "1e4cc568-4e51-4b38-9d46-4aa3f15204be"
      },
      "outputs": [
        {
          "name": "stdout",
          "output_type": "stream",
          "text": [
            "[[ 63.0278175   22.55258597  39.60911701  40.47523153  98.67291675\n",
            "   -0.25439999]\n",
            " [ 39.05695098  10.06099147  25.01537822  28.99595951 114.4054254\n",
            "    4.56425864]\n",
            " [ 68.83202098  22.21848205  50.09219357  46.61353893 105.9851355\n",
            "   -3.53031731]\n",
            " ...\n",
            " [ 61.44659663  22.6949683   46.17034732  38.75162833 125.6707246\n",
            "   -2.70787952]\n",
            " [ 45.25279209   8.69315736  41.5831264   36.55963472 118.5458418\n",
            "    0.21475017]\n",
            " [ 33.84164075   5.07399141  36.64123294  28.76764934 123.9452436\n",
            "   -0.19924909]]\n"
          ]
        }
      ],
      "source": [
        "print(X)\n"
      ]
    },
    {
      "cell_type": "code",
      "execution_count": 4,
      "metadata": {
        "colab": {
          "base_uri": "https://localhost:8080/",
          "height": 34
        },
        "colab_type": "code",
        "id": "eYrOQ43XcJR3",
        "outputId": "e0873b2a-3b08-4bab-ef0d-15b88858ca44"
      },
      "outputs": [
        {
          "name": "stdout",
          "output_type": "stream",
          "text": [
            "['Hernia' 'Hernia' 'Hernia' 'Hernia' 'Hernia' 'Hernia' 'Hernia' 'Hernia'\n",
            " 'Hernia' 'Hernia' 'Hernia' 'Hernia' 'Hernia' 'Hernia' 'Hernia' 'Hernia'\n",
            " 'Hernia' 'Hernia' 'Hernia' 'Hernia' 'Hernia' 'Hernia' 'Hernia' 'Hernia'\n",
            " 'Hernia' 'Hernia' 'Hernia' 'Hernia' 'Hernia' 'Hernia' 'Hernia' 'Hernia'\n",
            " 'Hernia' 'Hernia' 'Hernia' 'Hernia' 'Hernia' 'Hernia' 'Hernia' 'Hernia'\n",
            " 'Hernia' 'Hernia' 'Hernia' 'Hernia' 'Hernia' 'Hernia' 'Hernia' 'Hernia'\n",
            " 'Hernia' 'Hernia' 'Hernia' 'Hernia' 'Hernia' 'Hernia' 'Hernia' 'Hernia'\n",
            " 'Hernia' 'Hernia' 'Hernia' 'Hernia' 'Spondylolisthesis'\n",
            " 'Spondylolisthesis' 'Spondylolisthesis' 'Spondylolisthesis'\n",
            " 'Spondylolisthesis' 'Spondylolisthesis' 'Spondylolisthesis'\n",
            " 'Spondylolisthesis' 'Spondylolisthesis' 'Spondylolisthesis'\n",
            " 'Spondylolisthesis' 'Spondylolisthesis' 'Spondylolisthesis'\n",
            " 'Spondylolisthesis' 'Spondylolisthesis' 'Spondylolisthesis'\n",
            " 'Spondylolisthesis' 'Spondylolisthesis' 'Spondylolisthesis'\n",
            " 'Spondylolisthesis' 'Spondylolisthesis' 'Spondylolisthesis'\n",
            " 'Spondylolisthesis' 'Spondylolisthesis' 'Spondylolisthesis'\n",
            " 'Spondylolisthesis' 'Spondylolisthesis' 'Spondylolisthesis'\n",
            " 'Spondylolisthesis' 'Spondylolisthesis' 'Spondylolisthesis'\n",
            " 'Spondylolisthesis' 'Spondylolisthesis' 'Spondylolisthesis'\n",
            " 'Spondylolisthesis' 'Spondylolisthesis' 'Spondylolisthesis'\n",
            " 'Spondylolisthesis' 'Spondylolisthesis' 'Spondylolisthesis'\n",
            " 'Spondylolisthesis' 'Spondylolisthesis' 'Spondylolisthesis'\n",
            " 'Spondylolisthesis' 'Spondylolisthesis' 'Spondylolisthesis'\n",
            " 'Spondylolisthesis' 'Spondylolisthesis' 'Spondylolisthesis'\n",
            " 'Spondylolisthesis' 'Spondylolisthesis' 'Spondylolisthesis'\n",
            " 'Spondylolisthesis' 'Spondylolisthesis' 'Spondylolisthesis'\n",
            " 'Spondylolisthesis' 'Spondylolisthesis' 'Spondylolisthesis'\n",
            " 'Spondylolisthesis' 'Spondylolisthesis' 'Spondylolisthesis'\n",
            " 'Spondylolisthesis' 'Spondylolisthesis' 'Spondylolisthesis'\n",
            " 'Spondylolisthesis' 'Spondylolisthesis' 'Spondylolisthesis'\n",
            " 'Spondylolisthesis' 'Spondylolisthesis' 'Spondylolisthesis'\n",
            " 'Spondylolisthesis' 'Spondylolisthesis' 'Spondylolisthesis'\n",
            " 'Spondylolisthesis' 'Spondylolisthesis' 'Spondylolisthesis'\n",
            " 'Spondylolisthesis' 'Spondylolisthesis' 'Spondylolisthesis'\n",
            " 'Spondylolisthesis' 'Spondylolisthesis' 'Spondylolisthesis'\n",
            " 'Spondylolisthesis' 'Spondylolisthesis' 'Spondylolisthesis'\n",
            " 'Spondylolisthesis' 'Spondylolisthesis' 'Spondylolisthesis'\n",
            " 'Spondylolisthesis' 'Spondylolisthesis' 'Spondylolisthesis'\n",
            " 'Spondylolisthesis' 'Spondylolisthesis' 'Spondylolisthesis'\n",
            " 'Spondylolisthesis' 'Spondylolisthesis' 'Spondylolisthesis'\n",
            " 'Spondylolisthesis' 'Spondylolisthesis' 'Spondylolisthesis'\n",
            " 'Spondylolisthesis' 'Spondylolisthesis' 'Spondylolisthesis'\n",
            " 'Spondylolisthesis' 'Spondylolisthesis' 'Spondylolisthesis'\n",
            " 'Spondylolisthesis' 'Spondylolisthesis' 'Spondylolisthesis'\n",
            " 'Spondylolisthesis' 'Spondylolisthesis' 'Spondylolisthesis'\n",
            " 'Spondylolisthesis' 'Spondylolisthesis' 'Spondylolisthesis'\n",
            " 'Spondylolisthesis' 'Spondylolisthesis' 'Spondylolisthesis'\n",
            " 'Spondylolisthesis' 'Spondylolisthesis' 'Spondylolisthesis'\n",
            " 'Spondylolisthesis' 'Spondylolisthesis' 'Spondylolisthesis'\n",
            " 'Spondylolisthesis' 'Spondylolisthesis' 'Spondylolisthesis'\n",
            " 'Spondylolisthesis' 'Spondylolisthesis' 'Spondylolisthesis'\n",
            " 'Spondylolisthesis' 'Spondylolisthesis' 'Spondylolisthesis'\n",
            " 'Spondylolisthesis' 'Spondylolisthesis' 'Spondylolisthesis'\n",
            " 'Spondylolisthesis' 'Spondylolisthesis' 'Spondylolisthesis'\n",
            " 'Spondylolisthesis' 'Spondylolisthesis' 'Spondylolisthesis'\n",
            " 'Spondylolisthesis' 'Spondylolisthesis' 'Spondylolisthesis'\n",
            " 'Spondylolisthesis' 'Spondylolisthesis' 'Spondylolisthesis'\n",
            " 'Spondylolisthesis' 'Spondylolisthesis' 'Normal' 'Normal' 'Normal'\n",
            " 'Normal' 'Normal' 'Normal' 'Normal' 'Normal' 'Normal' 'Normal' 'Normal'\n",
            " 'Normal' 'Normal' 'Normal' 'Normal' 'Normal' 'Normal' 'Normal' 'Normal'\n",
            " 'Normal' 'Normal' 'Normal' 'Normal' 'Normal' 'Normal' 'Normal' 'Normal'\n",
            " 'Normal' 'Normal' 'Normal' 'Normal' 'Normal' 'Normal' 'Normal' 'Normal'\n",
            " 'Normal' 'Normal' 'Normal' 'Normal' 'Normal' 'Normal' 'Normal' 'Normal'\n",
            " 'Normal' 'Normal' 'Normal' 'Normal' 'Normal' 'Normal' 'Normal' 'Normal'\n",
            " 'Normal' 'Normal' 'Normal' 'Normal' 'Normal' 'Normal' 'Normal' 'Normal'\n",
            " 'Normal' 'Normal' 'Normal' 'Normal' 'Normal' 'Normal' 'Normal' 'Normal'\n",
            " 'Normal' 'Normal' 'Normal' 'Normal' 'Normal' 'Normal' 'Normal' 'Normal'\n",
            " 'Normal' 'Normal' 'Normal' 'Normal' 'Normal' 'Normal' 'Normal' 'Normal'\n",
            " 'Normal' 'Normal' 'Normal' 'Normal' 'Normal' 'Normal' 'Normal' 'Normal'\n",
            " 'Normal' 'Normal' 'Normal' 'Normal' 'Normal' 'Normal' 'Normal' 'Normal'\n",
            " 'Normal']\n"
          ]
        }
      ],
      "source": [
        "print(y)"
      ]
    },
    {
      "cell_type": "markdown",
      "metadata": {
        "colab_type": "text",
        "id": "nhfKXNxlSabC"
      },
      "source": [
        "## Taking care of missing data"
      ]
    },
    {
      "cell_type": "code",
      "execution_count": 5,
      "metadata": {
        "colab": {},
        "colab_type": "code",
        "id": "c93k7ipkSexq"
      },
      "outputs": [],
      "source": [
        "from sklearn.impute import SimpleImputer\n",
        "imputer = SimpleImputer(missing_values=np.nan, strategy='mean')\n",
        "imputer.fit(X[:, 0:6])  # Fit on all columns that need imputation\n",
        "X[:, 0:6] = imputer.transform(X[:, 0:6])"
      ]
    },
    {
      "cell_type": "code",
      "execution_count": 6,
      "metadata": {
        "colab": {
          "base_uri": "https://localhost:8080/",
          "height": 188
        },
        "colab_type": "code",
        "id": "3UgLdMS_bjq_",
        "outputId": "254af4e0-681e-47f5-aaa7-b9c6f43258e9"
      },
      "outputs": [
        {
          "name": "stdout",
          "output_type": "stream",
          "text": [
            "[[ 63.0278175   22.55258597  39.60911701  40.47523153  98.67291675\n",
            "   -0.25439999]\n",
            " [ 39.05695098  10.06099147  25.01537822  28.99595951 114.4054254\n",
            "    4.56425864]\n",
            " [ 68.83202098  22.21848205  50.09219357  46.61353893 105.9851355\n",
            "   -3.53031731]\n",
            " ...\n",
            " [ 61.44659663  22.6949683   46.17034732  38.75162833 125.6707246\n",
            "   -2.70787952]\n",
            " [ 45.25279209   8.69315736  41.5831264   36.55963472 118.5458418\n",
            "    0.21475017]\n",
            " [ 33.84164075   5.07399141  36.64123294  28.76764934 123.9452436\n",
            "   -0.19924909]]\n"
          ]
        }
      ],
      "source": [
        "print(X)"
      ]
    },
    {
      "cell_type": "markdown",
      "metadata": {
        "colab_type": "text",
        "id": "DXh8oVSITIc6"
      },
      "source": [
        "### Encoding the Dependent Variable"
      ]
    },
    {
      "cell_type": "code",
      "execution_count": 7,
      "metadata": {
        "colab": {},
        "colab_type": "code",
        "id": "XgHCShVyTOYY"
      },
      "outputs": [],
      "source": [
        "from sklearn.preprocessing import LabelEncoder\n",
        "le = LabelEncoder()\n",
        "y = le.fit_transform(y)"
      ]
    },
    {
      "cell_type": "code",
      "execution_count": 8,
      "metadata": {
        "colab": {
          "base_uri": "https://localhost:8080/",
          "height": 34
        },
        "colab_type": "code",
        "id": "FyhY8-gPpFCa",
        "outputId": "7f76ef29-5423-4c3e-cf69-45fbc366a997"
      },
      "outputs": [
        {
          "name": "stdout",
          "output_type": "stream",
          "text": [
            "[0 0 0 0 0 0 0 0 0 0 0 0 0 0 0 0 0 0 0 0 0 0 0 0 0 0 0 0 0 0 0 0 0 0 0 0 0\n",
            " 0 0 0 0 0 0 0 0 0 0 0 0 0 0 0 0 0 0 0 0 0 0 0 2 2 2 2 2 2 2 2 2 2 2 2 2 2\n",
            " 2 2 2 2 2 2 2 2 2 2 2 2 2 2 2 2 2 2 2 2 2 2 2 2 2 2 2 2 2 2 2 2 2 2 2 2 2\n",
            " 2 2 2 2 2 2 2 2 2 2 2 2 2 2 2 2 2 2 2 2 2 2 2 2 2 2 2 2 2 2 2 2 2 2 2 2 2\n",
            " 2 2 2 2 2 2 2 2 2 2 2 2 2 2 2 2 2 2 2 2 2 2 2 2 2 2 2 2 2 2 2 2 2 2 2 2 2\n",
            " 2 2 2 2 2 2 2 2 2 2 2 2 2 2 2 2 2 2 2 2 2 2 2 2 2 1 1 1 1 1 1 1 1 1 1 1 1\n",
            " 1 1 1 1 1 1 1 1 1 1 1 1 1 1 1 1 1 1 1 1 1 1 1 1 1 1 1 1 1 1 1 1 1 1 1 1 1\n",
            " 1 1 1 1 1 1 1 1 1 1 1 1 1 1 1 1 1 1 1 1 1 1 1 1 1 1 1 1 1 1 1 1 1 1 1 1 1\n",
            " 1 1 1 1 1 1 1 1 1 1 1 1 1 1]\n"
          ]
        }
      ],
      "source": [
        "print(y)"
      ]
    },
    {
      "cell_type": "markdown",
      "metadata": {
        "colab_type": "text",
        "id": "qb_vcgm3qZKW"
      },
      "source": [
        "## Splitting the dataset into the Training set and Test set"
      ]
    },
    {
      "cell_type": "code",
      "execution_count": 9,
      "metadata": {
        "colab": {},
        "colab_type": "code",
        "id": "pXgA6CzlqbCl"
      },
      "outputs": [],
      "source": [
        "from sklearn.model_selection import train_test_split\n",
        "X_train, X_test, y_train, y_test = train_test_split(X, y, test_size = 0.2, random_state = 1)"
      ]
    },
    {
      "cell_type": "code",
      "execution_count": 10,
      "metadata": {
        "colab": {
          "base_uri": "https://localhost:8080/",
          "height": 154
        },
        "colab_type": "code",
        "id": "GuwQhFdKrYTM",
        "outputId": "de1e527f-c229-4daf-e7c5-ea9d2485148d"
      },
      "outputs": [
        {
          "name": "stdout",
          "output_type": "stream",
          "text": [
            "[[ 61.44659663  22.6949683   46.17034732  38.75162833 125.6707246\n",
            "   -2.70787952]\n",
            " [ 63.0278175   22.55258597  39.60911701  40.47523153  98.67291675\n",
            "   -0.25439999]\n",
            " [ 69.62628302  21.12275138  52.76659472  48.50353164 116.8030913\n",
            "   54.81686729]\n",
            " ...\n",
            " [ 84.97413208  33.02117462  60.85987263  51.95295747 125.6595336\n",
            "   74.33340864]\n",
            " [ 63.92947003  19.97109671  40.17704963  43.95837332 113.0659387\n",
            "  -11.05817866]\n",
            " [ 35.70345781  19.44325311  20.7         16.26020471 137.5406125\n",
            "   -0.26348965]]\n"
          ]
        }
      ],
      "source": [
        "print(X_train)"
      ]
    },
    {
      "cell_type": "code",
      "execution_count": 11,
      "metadata": {
        "colab": {
          "base_uri": "https://localhost:8080/",
          "height": 51
        },
        "colab_type": "code",
        "id": "TUrX_Tvcrbi4",
        "outputId": "9a041a9b-2642-4828-fa2f-a431d7d77631"
      },
      "outputs": [
        {
          "name": "stdout",
          "output_type": "stream",
          "text": [
            "[[ 67.41253785  17.44279712  60.14464036  49.96974073 111.12397\n",
            "   33.15764573]\n",
            " [ 63.02630005  27.33624023  51.60501665  35.69005983 114.5066078\n",
            "    7.4398698 ]\n",
            " [ 91.46874146  24.50817744  84.62027202  66.96056402 117.3078968\n",
            "   52.62304673]\n",
            " [ 72.56070163  17.38519079  51.99999999  55.17551084 119.1937238\n",
            "   32.10853735]\n",
            " [ 54.74177518  12.09507205  40.99999999  42.64670314 117.6432188\n",
            "   40.3823266 ]\n",
            " [ 70.39930842  13.46998624  61.19999999  56.92932218 102.3375244\n",
            "   25.53842852]\n",
            " [ 33.84164075   5.07399141  36.64123294  28.76764934 123.9452436\n",
            "   -0.19924909]\n",
            " [ 72.05403412  24.70073725  79.87401586  47.35329687 107.1723576\n",
            "   56.42615873]\n",
            " [ 84.99895554  29.61009772  83.35219438  55.38885782 126.9129899\n",
            "   71.32117542]\n",
            " [ 69.3988184   18.89840693  75.96636144  50.50041147 103.5825398\n",
            "   -0.44366081]\n",
            " [ 65.61180231  23.13791922  62.58217893  42.47388309 124.1280012\n",
            "   -4.08329841]\n",
            " [ 45.25279209   8.69315736  41.5831264   36.55963472 118.5458418\n",
            "    0.21475017]\n",
            " [ 43.20318499  19.66314572  35.          23.54003927 124.8461088\n",
            "   -2.91907595]\n",
            " [ 48.10923638  14.93072472  35.56468278  33.17851166 124.0564518\n",
            "    7.94790486]\n",
            " [ 50.67667667   6.46150127  35.          44.2151754  116.5879699\n",
            "   -0.21471061]\n",
            " [ 84.5856071   30.36168482  65.47948563  54.22392228 108.0102185\n",
            "   25.11847846]\n",
            " [ 54.60031622  21.48897426  29.36021618  33.11134196 118.3433212\n",
            "   -1.47106726]\n",
            " [ 67.80469442  16.55066167  43.25680184  51.25403274 119.6856451\n",
            "    4.86753994]\n",
            " [ 43.11795103  13.81574355  40.34738779  29.30220748 128.5177217\n",
            "    0.97092641]\n",
            " [ 56.60577127  16.80020017  41.99999999  39.80557109 127.2945222\n",
            "   24.0185747 ]\n",
            " [ 37.90391014   4.47909896  24.71027447  33.42481118 157.848799\n",
            "   33.60702661]\n",
            " [ 61.82162717  13.59710457  63.99999999  48.22452261 121.779803\n",
            "    1.29619119]\n",
            " [ 38.69791243  13.44474904  31.          25.25316339 123.1592507\n",
            "    1.42918576]\n",
            " [ 72.34359434  16.42078962  59.86901238  55.92280472  70.08257486\n",
            "   12.07264427]\n",
            " [ 31.23238734  17.71581923  15.5         13.51656811 120.0553988\n",
            "    0.49975145]\n",
            " [ 74.09473084  18.82372712  76.03215571  55.27100372 128.4057314\n",
            "   73.38821617]\n",
            " [ 95.38259648  24.82263131  95.15763273  70.55996517  89.3075466\n",
            "   57.66084135]\n",
            " [ 67.51305267  33.2755899   96.28306169  34.23746278 145.6010328\n",
            "   88.30148594]\n",
            " [ 45.44374959   9.9060718   44.99999999  35.53767779 163.0710405\n",
            "   20.31531532]\n",
            " [ 86.472905    40.30376567  61.14101155  46.16913933  97.4041888\n",
            "   55.75222146]\n",
            " [ 83.7031774   20.26822858  77.1105979   63.43494882 125.4801739\n",
            "   69.279571  ]\n",
            " [ 45.70178875  10.65985935  42.5778464   35.0419294  130.1783144\n",
            "   -3.38890999]\n",
            " [ 50.16007802  -2.97002434  41.99999999  53.13010235 131.8024914\n",
            "   -8.29020337]\n",
            " [ 48.91555137  19.96455616  40.26379358  28.95099521 119.321358\n",
            "    8.02889463]\n",
            " [ 43.58096394  16.5088837   46.99999999  27.07208024 109.271634\n",
            "    8.99281573]\n",
            " [ 81.08232025  21.25584028  78.76675639  59.82647997  90.07187999\n",
            "   49.159426  ]\n",
            " [ 66.87921138  24.89199889  49.27859673  41.9872125  113.4770183\n",
            "   -2.00589175]\n",
            " [ 45.57548229  18.75913544  33.77414297  26.81634684 116.7970069\n",
            "    3.13190992]\n",
            " [ 63.90063261  13.7062037   62.12433389  50.19442891 114.1292425\n",
            "   41.42282844]\n",
            " [ 41.18776972   5.79297387  42.86739151  35.39479584 103.3488802\n",
            "   27.66027669]\n",
            " [ 39.08726449   5.53660248  26.93203835  33.55066201 131.5844199\n",
            "   -0.75946135]\n",
            " [ 54.92085752  18.96842952  51.60145541  35.952428   125.8466462\n",
            "    2.00164247]\n",
            " [ 58.10193455  14.83763914  79.64983825  43.26429541 113.5876551\n",
            "   50.23787808]\n",
            " [ 48.17074627   9.5942167   39.71092029  38.57652956 135.6233101\n",
            "    5.36005057]\n",
            " [ 50.82502875   9.06472905  56.29999999  41.7602997   78.99945411\n",
            "   23.04152435]\n",
            " [ 60.7538935   15.7538935   43.19915768  45.         113.0533309\n",
            "   31.69354839]\n",
            " [ 36.15782981  -0.81051409  33.62731353  36.96834391 135.9369096\n",
            "   -2.0925065 ]\n",
            " [ 53.93674778  20.72149628  29.22053381  33.21525149 114.365845\n",
            "   -0.42101039]\n",
            " [118.1446548   38.44950127  50.83851954  79.69515353  81.0245406\n",
            "   74.04376736]\n",
            " [ 51.07983294  14.20993529  35.95122893  36.86989765 115.8037111\n",
            "    6.90508996]\n",
            " [ 65.00796426  27.60260762  50.94751899  37.40535663 116.5811088\n",
            "    7.01597788]\n",
            " [ 59.16761171  14.56274875  43.19915768  44.60486296 121.0356423\n",
            "    2.83050412]\n",
            " [ 49.71285934   9.65207488  28.317406    40.06078446 108.1687249\n",
            "    7.91850062]\n",
            " [ 68.72190982  49.4318636   68.0560124   19.29004622 125.0185168\n",
            "   54.69128928]\n",
            " [ 71.18681115  23.89620111  43.6966651   47.29061004 119.8649383\n",
            "   27.28398451]\n",
            " [ 74.43359316  41.55733141  27.7         32.87626175 107.9493045\n",
            "    5.00008879]\n",
            " [ 55.512212    20.09515673  43.99999999  35.41705528 122.648753\n",
            "   34.55294641]\n",
            " [ 85.58171024  30.45703858  78.23137949  55.12467166 114.8660487\n",
            "   68.37612182]\n",
            " [ 36.68635286   5.01088412  41.9487509   31.67546874  84.24141517\n",
            "    0.66443712]\n",
            " [ 80.43342782  16.998479    66.53601753  63.43494882 116.4389807\n",
            "   57.78125   ]\n",
            " [ 63.83498162  20.36250706  54.55243367  43.47247456 112.3094915\n",
            "   -0.62252664]\n",
            " [ 95.48022873  46.55005318  58.99999999  48.93017555  96.68390337\n",
            "   77.28307195]]\n"
          ]
        }
      ],
      "source": [
        "print(X_test)"
      ]
    },
    {
      "cell_type": "code",
      "execution_count": 12,
      "metadata": {
        "colab": {
          "base_uri": "https://localhost:8080/",
          "height": 34
        },
        "colab_type": "code",
        "id": "pSMHiIsWreQY",
        "outputId": "5afe91e0-9244-4bf5-ec1b-e3e092b85c08"
      },
      "outputs": [
        {
          "name": "stdout",
          "output_type": "stream",
          "text": [
            "[1 0 2 2 2 2 2 2 2 2 2 1 1 0 2 2 2 1 0 2 2 1 0 2 2 2 0 1 0 1 2 2 1 2 0 2 1\n",
            " 1 2 1 1 1 0 0 2 1 2 0 1 2 2 2 2 1 0 2 1 2 2 2 2 2 1 0 1 1 0 0 0 0 1 0 1 2\n",
            " 0 0 1 2 1 1 2 2 2 1 1 1 0 1 1 0 0 2 2 0 2 0 1 2 1 2 2 2 1 2 1 0 2 2 2 2 1\n",
            " 2 1 1 2 2 1 2 2 1 1 0 2 1 1 1 2 1 2 1 2 2 1 2 2 2 2 2 2 1 2 2 2 1 2 2 2 0\n",
            " 0 0 2 1 0 1 0 1 2 0 1 0 1 1 2 2 1 1 1 2 1 1 0 2 1 0 0 2 2 1 2 2 2 2 2 1 2\n",
            " 0 2 2 2 1 2 1 2 1 2 2 2 2 2 2 2 1 2 2 1 0 2 2 0 2 0 2 0 0 0 1 0 2 2 1 1 1\n",
            " 2 0 0 0 2 2 1 1 2 0 2 1 1 1 2 1 1 2 2 2 2 2 1 2 1 0]\n"
          ]
        }
      ],
      "source": [
        "print(y_train)"
      ]
    },
    {
      "cell_type": "code",
      "execution_count": 13,
      "metadata": {
        "colab": {
          "base_uri": "https://localhost:8080/",
          "height": 34
        },
        "colab_type": "code",
        "id": "I_tW7H56rgtW",
        "outputId": "2a93f141-2a99-4a69-eec5-c82a3bb8d36b"
      },
      "outputs": [
        {
          "name": "stdout",
          "output_type": "stream",
          "text": [
            "[2 1 2 2 2 2 1 2 2 1 1 1 0 0 1 2 1 1 1 2 2 1 0 2 0 2 2 2 2 2 2 1 1 0 0 2 0\n",
            " 1 2 2 1 1 2 1 2 2 1 1 2 1 2 1 0 2 2 0 2 2 0 2 0 2]\n"
          ]
        }
      ],
      "source": [
        "print(y_test)"
      ]
    },
    {
      "cell_type": "markdown",
      "metadata": {
        "colab_type": "text",
        "id": "TpGqbS4TqkIR"
      },
      "source": [
        "## Feature Scaling"
      ]
    },
    {
      "cell_type": "code",
      "execution_count": 14,
      "metadata": {
        "colab": {},
        "colab_type": "code",
        "id": "AxjSUXFQqo-3"
      },
      "outputs": [],
      "source": [
        "from sklearn.preprocessing import StandardScaler\n",
        "sc = StandardScaler()\n",
        "X_train = sc.fit_transform(X_train)\n",
        "X_test = sc.transform(X_test)"
      ]
    },
    {
      "cell_type": "code",
      "execution_count": 15,
      "metadata": {
        "colab": {
          "base_uri": "https://localhost:8080/",
          "height": 154
        },
        "colab_type": "code",
        "id": "DWPET8ZdlMnu",
        "outputId": "dea86927-5124-4e2a-e974-2804df9a913c"
      },
      "outputs": [
        {
          "name": "stdout",
          "output_type": "stream",
          "text": [
            "[[ 0.06676731  0.55096591 -0.31581494 -0.31561219  0.59294449 -0.74839697]\n",
            " [ 0.15935097  0.53651871 -0.6692242  -0.18879786 -1.58014878 -0.68669034]\n",
            " [ 0.5457044   0.39143676  0.03948044  0.40188538 -0.12082436  0.69838839]\n",
            " ...\n",
            " [ 1.44435183  1.59874181  0.47541077  0.65567734  0.59204371  1.18924228]\n",
            " [ 0.21214454  0.27458106 -0.63863349  0.06747476 -0.42163327 -0.95841251]\n",
            " [-1.44054525  0.22102201 -1.68773087 -1.97042165  1.54836922 -0.68691895]]\n"
          ]
        }
      ],
      "source": [
        "print(X_train)"
      ]
    },
    {
      "cell_type": "code",
      "execution_count": 16,
      "metadata": {
        "colab": {
          "base_uri": "https://localhost:8080/",
          "height": 51
        },
        "colab_type": "code",
        "id": "sTXykB_QlRjE",
        "outputId": "b68f0cfc-d07c-48cb-80d0-6800028c41f9"
      },
      "outputs": [
        {
          "name": "stdout",
          "output_type": "stream",
          "text": [
            "[[ 4.16085166e-01  1.80404425e-02  4.36886027e-01  5.09761905e-01\n",
            "  -5.77945185e-01  1.53644666e-01]\n",
            " [ 1.59262119e-01  1.02190487e+00 -2.30859405e-02 -5.40867498e-01\n",
            "  -3.05671694e-01 -4.93174375e-01]\n",
            " [ 1.82462428e+00  7.34947986e-01  1.75522333e+00  1.75986397e+00\n",
            "  -8.01918217e-02  6.43212351e-01]\n",
            " [ 7.17520510e-01  1.21952635e-02 -1.81085042e-03  8.92777126e-01\n",
            "   7.16011673e-02  1.27258898e-01]\n",
            " [-3.25813476e-01 -5.24580657e-01 -5.94306704e-01 -2.90315504e-02\n",
            "  -5.32012607e-02  3.35350159e-01]\n",
            " [ 5.90966590e-01 -3.85071345e-01  4.93731137e-01  1.02181403e+00\n",
            "  -1.28517912e+00 -3.79836765e-02]\n",
            " [-1.54955839e+00 -1.23699322e+00 -8.29084105e-01 -1.05018476e+00\n",
            "   4.54057985e-01 -6.85303258e-01]\n",
            " [ 6.87854109e-01  7.54486577e-01  1.49957450e+00  3.17256703e-01\n",
            "  -8.96016280e-01  7.38863128e-01]\n",
            " [ 1.44580530e+00  1.25262785e+00  1.68692053e+00  9.08474158e-01\n",
            "   6.92936249e-01  1.11348263e+00]\n",
            " [ 5.32385887e-01  1.65737750e-01  1.28909549e+00  5.48806074e-01\n",
            "  -1.18496599e+00 -6.91450374e-01]\n",
            " [ 3.10648477e-01  5.95911103e-01  5.68179799e-01 -4.17468083e-02\n",
            "   4.68768413e-01 -7.82989663e-01]\n",
            " [-8.81412523e-01 -8.69764949e-01 -5.62897615e-01 -4.76888411e-01\n",
            "   1.94521921e-02 -6.74890904e-01]\n",
            " [-1.00142114e+00  2.43333999e-01 -9.17486261e-01 -1.43480686e+00\n",
            "   5.26569950e-01 -7.53708699e-01]\n",
            " [-7.14161964e-01 -2.36853643e-01 -8.87070605e-01 -7.25654986e-01\n",
            "   4.63009296e-01 -4.80396958e-01]\n",
            " [-5.63833171e-01 -1.09620585e+00 -9.17486261e-01  8.63690027e-02\n",
            "  -1.38139797e-01 -6.85692126e-01]\n",
            " [ 1.42160291e+00  1.32888963e+00  7.24238182e-01  8.22763873e-01\n",
            "  -8.28575624e-01 -4.85456978e-02]\n",
            " [-3.34096183e-01  4.28596532e-01 -1.22126340e+00 -7.30597005e-01\n",
            "   3.15101117e-03 -7.17290325e-01]\n",
            " [ 4.39046722e-01 -7.24824458e-02 -4.72748001e-01  6.04253859e-01\n",
            "   1.11196636e-01 -5.57870170e-01]\n",
            " [-1.00641176e+00 -3.49988163e-01 -6.29458525e-01 -1.01085458e+00\n",
            "   8.22103472e-01 -6.55872572e-01]\n",
            " [-2.16672756e-01 -4.71623605e-02 -5.40443445e-01 -2.38068215e-01\n",
            "   7.23646345e-01 -7.62090034e-02]\n",
            " [-1.31170434e+00 -1.29735556e+00 -1.47172442e+00 -7.07533466e-01\n",
            "   3.18300503e+00  1.64946892e-01]\n",
            " [ 8.87260991e-02 -3.72172946e-01  6.44548263e-01  3.81357252e-01\n",
            "   2.79758486e-01 -6.47691948e-01]\n",
            " [-1.26521391e+00 -3.87632104e-01 -1.13293930e+00 -1.30876353e+00\n",
            "   3.90792260e-01 -6.44347047e-01]\n",
            " [ 7.04808442e-01 -8.56602576e-02  4.22039806e-01  9.47759372e-01\n",
            "  -3.88142745e+00 -3.76657039e-01]\n",
            " [-1.70233542e+00  4.57433546e-02 -1.96781982e+00 -2.17228507e+00\n",
            "   1.40958655e-01 -6.67722933e-01]\n",
            " [ 8.07341006e-01  1.58160165e-01  1.29263939e+00  8.99803027e-01\n",
            "   8.13089208e-01  1.16547007e+00]\n",
            " [ 2.05378836e+00  7.66854881e-01  2.32279992e+00  2.02469038e+00\n",
            "  -2.33398119e+00  7.69916211e-01]\n",
            " [ 4.21970510e-01  1.62455673e+00  2.38341919e+00 -6.47742517e-01\n",
            "   2.19716431e+00  1.54054865e+00]\n",
            " [-8.70231578e-01 -7.46693371e-01 -3.78853667e-01 -5.52079027e-01\n",
            "   3.60335093e+00 -1.69348421e-01]\n",
            " [ 1.53210800e+00  2.33768922e+00  4.90553827e-01  2.30132156e-01\n",
            "  -1.68227055e+00  7.21913161e-01]\n",
            " [ 1.36993488e+00  3.04730335e-01  1.35072780e+00  1.50046636e+00\n",
            "   5.77606782e-01  1.06213493e+00]\n",
            " [-8.55122866e-01 -6.70208319e-01 -5.09318754e-01 -5.88553780e-01\n",
            "   9.55767021e-01 -7.65525336e-01]\n",
            " [-5.94081061e-01 -2.05320060e+00 -5.40443445e-01  7.42285927e-01\n",
            "   1.08649942e+00 -8.88796100e-01]\n",
            " [-6.66950600e-01  2.73917408e-01 -6.33961181e-01 -1.03669507e+00\n",
            "   8.18746317e-02 -4.78360012e-01]\n",
            " [-9.79301424e-01 -7.67215583e-02 -2.71127148e-01 -1.17493648e+00\n",
            "  -7.27042435e-01 -4.54116760e-01]\n",
            " [ 1.21647842e+00  4.04940974e-01  1.43993389e+00  1.23497279e+00\n",
            "  -2.27245887e+00  5.56100003e-01]\n",
            " [ 3.84857828e-01  7.73893446e-01 -1.48394500e-01 -7.75536611e-02\n",
            "  -3.88544867e-01 -7.30741514e-01]\n",
            " [-8.62518363e-01  1.51606199e-01 -9.83514916e-01 -1.19375210e+00\n",
            "  -1.21314101e-01 -6.01522410e-01]\n",
            " [ 2.10456050e-01 -3.61102914e-01  5.43518773e-01  5.26293367e-01\n",
            "  -3.36046382e-01  3.61519467e-01]\n",
            " [-1.11942776e+00 -1.16403975e+00 -4.93722910e-01 -5.62591585e-01\n",
            "  -1.20377360e+00  1.53822056e-02]\n",
            " [-1.24241657e+00 -1.19005316e+00 -1.35205297e+00 -6.98273974e-01\n",
            "   1.06894652e+00 -6.99392966e-01]\n",
            " [-3.15327845e-01  1.72842778e-01 -2.32777605e-02 -5.21563725e-01\n",
            "   6.07104677e-01 -6.29949383e-01]\n",
            " [-1.29069386e-01 -2.46298818e-01  1.48749956e+00  1.64078822e-02\n",
            "  -3.79639548e-01  5.83223784e-01]\n",
            " [-7.10560437e-01 -7.78336575e-01 -6.63740739e-01 -3.28495108e-01\n",
            "   1.39404273e+00 -5.45483202e-01]\n",
            " [-5.55146858e-01 -8.32062443e-01  2.29801165e-01 -9.42488002e-02\n",
            "  -3.16369472e+00 -1.00782465e-01]\n",
            " [ 2.62081449e-02 -1.53328640e-01 -4.75852903e-01  1.44112576e-01\n",
            "  -4.22648089e-01  1.16821651e-01]\n",
            " [-1.41394086e+00 -1.83408017e+00 -9.91423628e-01 -4.46817579e-01\n",
            "   1.41928482e+00 -7.32919932e-01]\n",
            " [-3.72949450e-01  3.50722344e-01 -1.22878715e+00 -7.22951848e-01\n",
            "  -3.17001898e-01 -6.90880701e-01]\n",
            " [ 3.38655266e+00  2.14954136e+00 -6.43719732e-02  2.69681307e+00\n",
            "  -3.00069253e+00  1.18195761e+00]\n",
            " [-5.40227560e-01 -3.09990453e-01 -8.66249970e-01 -4.54060775e-01\n",
            "  -2.01265941e-01 -5.06624441e-01]\n",
            " [ 2.75292545e-01  1.04893255e+00 -5.85009076e-02 -4.14664310e-01\n",
            "  -1.38692057e-01 -5.03835537e-01]\n",
            " [-6.66718447e-02 -2.74191300e-01 -4.75852903e-01  1.15040316e-01\n",
            "   2.19859896e-01 -6.09102965e-01]\n",
            " [-6.20266614e-01 -7.72465841e-01 -1.27743255e+00 -2.19290858e-01\n",
            "  -8.15817210e-01 -4.81136495e-01]\n",
            " [ 4.92751528e-01  3.26389587e+00  8.63018312e-01 -1.74750066e+00\n",
            "   5.40447323e-01  6.95230016e-01]\n",
            " [ 6.37076459e-01  6.72852185e-01 -4.49055532e-01  3.12644511e-01\n",
            "   1.25628210e-01  5.91820889e-03]\n",
            " [ 8.27182077e-01  2.46488559e+00 -1.31068805e+00 -7.47893062e-01\n",
            "  -8.33478681e-01 -5.54536479e-01]\n",
            " [-2.80702851e-01  2.87169141e-01 -4.32716926e-01 -5.60953844e-01\n",
            "   3.49701549e-01  1.88737399e-01]\n",
            " [ 1.47992676e+00  1.33856495e+00  1.41109675e+00  8.89036627e-01\n",
            "  -2.76739767e-01  1.03941259e+00]\n",
            " [-1.38299477e+00 -1.24339656e+00 -5.43203888e-01 -8.36241566e-01\n",
            "  -2.74176156e+00 -6.63580980e-01]\n",
            " [ 1.17848447e+00 -2.70434734e-02  7.81146434e-01  1.50046636e+00\n",
            "  -1.50132157e-01  7.72944568e-01]\n",
            " [ 2.06612052e-01  3.14296551e-01  1.35671547e-01  3.17246906e-02\n",
            "  -4.82520816e-01 -6.95948968e-01]\n",
            " [ 2.05950493e+00  2.97148534e+00  3.75231966e-01  4.33275760e-01\n",
            "  -1.74024739e+00  1.26342826e+00]]\n"
          ]
        }
      ],
      "source": [
        "print(X_test)"
      ]
    }
  ],
  "metadata": {
    "colab": {
      "collapsed_sections": [],
      "name": "data_preprocessing_tools.ipynb",
      "provenance": [],
      "toc_visible": true
    },
    "kernelspec": {
      "display_name": "warui",
      "language": "python",
      "name": "python3"
    },
    "language_info": {
      "codemirror_mode": {
        "name": "ipython",
        "version": 3
      },
      "file_extension": ".py",
      "mimetype": "text/x-python",
      "name": "python",
      "nbconvert_exporter": "python",
      "pygments_lexer": "ipython3",
      "version": "3.11.5"
    }
  },
  "nbformat": 4,
  "nbformat_minor": 0
}
